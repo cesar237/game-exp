{
 "cells": [
  {
   "cell_type": "code",
   "execution_count": 1,
   "id": "8813022e",
   "metadata": {},
   "outputs": [],
   "source": [
    "import os\n",
    "import json\n",
    "import pandas as pd\n",
    "from matplotlib import pyplot as plt\n",
    "import scienceplots\n",
    "import seaborn as sns\n",
    "\n",
    "# plt.style.use(['science','ieee'])\n",
    "pd.options.mode.chained_assignment = None  # default='warn'"
   ]
  },
  {
   "cell_type": "code",
   "execution_count": 87,
   "id": "e2de5467",
   "metadata": {},
   "outputs": [],
   "source": [
    "configs = ['6P', '4P-2E', '3P-3E', '2P-4E'][::-1]\n",
    "games = ['xonotic', 'supertux']\n",
    "scheds = ['cfs-eas', 'cfs-no-eas']"
   ]
  },
  {
   "cell_type": "code",
   "execution_count": 3,
   "id": "ef272b08",
   "metadata": {},
   "outputs": [],
   "source": [
    "def to_sched_config(df):\n",
    "    df_sched_config = {}\n",
    "\n",
    "    for sched in scheds:\n",
    "        df_sched = df[df.scheduler == sched]\n",
    "        df_config = {}\n",
    "        for config in configs:\n",
    "            df_config[config] = df_sched[df_sched.cpu_config == config]\n",
    "        df_sched_config[sched] = df_config\n",
    "    return df_sched_config"
   ]
  },
  {
   "cell_type": "code",
   "execution_count": 4,
   "id": "aad9b339",
   "metadata": {},
   "outputs": [],
   "source": [
    "def to_game(df):\n",
    "    df_game = {}\n",
    "\n",
    "    for game in games:\n",
    "        df_game[game] = df[df.game == game]\n",
    "    return df_game"
   ]
  },
  {
   "cell_type": "code",
   "execution_count": 5,
   "id": "e7f9dcfd",
   "metadata": {},
   "outputs": [],
   "source": [
    "def import_data_(config, game, sched):\n",
    "    path_prefix = f\"../results/results-{sched}/{game}/{config}\"\n",
    "    outputs = os.listdir(path_prefix)\n",
    "\n",
    "\n",
    "    scaphandres = list(filter(lambda file: file.startswith('scaph'), outputs))\n",
    "    scaphandres = list(filter(lambda file: file.endswith('parsed'), scaphandres))\n",
    "    mangologs = list(filter(lambda file: file.startswith(game), outputs))\n",
    "    pcms = list(filter(lambda file: file.startswith('pcm'), outputs))\n",
    "\n",
    "    def suffix(x):\n",
    "        return x.split('/')[-1]\n",
    "\n",
    "\n",
    "    host = []\n",
    "    socket = []\n",
    "    processes = []\n",
    "\n",
    "    idx = 0\n",
    "\n",
    "    scaph_2 = f\"{path_prefix}/{scaphandres[idx]}\"\n",
    "    mango_2 = f\"{path_prefix}/{mangologs[idx]}\"\n",
    "    pcm = f\"{path_prefix}/{pcms[idx]}\"\n",
    "\n",
    "    with open(scaph_2) as file:\n",
    "        content = file.readlines()\n",
    "        for index, line in enumerate(content[:-1]):\n",
    "            if line.strip() != '':\n",
    "                line_ = json.loads(line)\n",
    "                host.append([line_['host']['timestamp'],line_['host']['consumption']])\n",
    "                socket.append([line_['sockets'][0]['domains'][0]['timestamp'],\n",
    "                 line_['sockets'][0]['consumption'], \n",
    "                 line_['sockets'][0]['domains'][1]['consumption'], \n",
    "                 line_['sockets'][0]['domains'][0]['consumption']])\n",
    "\n",
    "                processes += list(map(\n",
    "                    lambda x: [x['timestamp'],suffix(x['exe']),x['pid'],x['consumption']], \n",
    "                    line_['consumers']))\n",
    "\n",
    "    host = pd.DataFrame(host, columns=['timestamp', 'energy'])\n",
    "    socket = pd.DataFrame(socket, columns=['timestamp', 'socket', 'core', 'uncore'])\n",
    "    processes = pd.DataFrame(processes, columns=['timestamp', 'process', 'pid', 'energy'])\n",
    "\n",
    "    host['timestamp'] -= host.iloc[0].timestamp\n",
    "    socket['timestamp'] -= socket.iloc[0].timestamp\n",
    "    processes['timestamp'] -= processes.iloc[0].timestamp\n",
    "\n",
    "    host['energy'] *= 1e-6\n",
    "    socket['core'] *= 1e-6\n",
    "    socket['uncore'] *= 1e-6\n",
    "    socket['socket'] *= 1e-6\n",
    "    processes['energy'] *= 1e-6\n",
    "\n",
    "    duration = host.timestamp.iloc[-1] - host.timestamp.iloc[0]\n",
    "\n",
    "    host['time_delta'] = host.timestamp.diff()\n",
    "    host['edp'] = host.time_delta * host.energy\n",
    "\n",
    "    processes['time_delta'] = processes.timestamp.diff()\n",
    "    processes['edp'] = processes.time_delta * processes.energy\n",
    "\n",
    "    mango_df = pd.read_csv(mango_2, skiprows=2)\n",
    "    game_power_df = processes[processes.process.str.startswith(game)]\n",
    "    game_perf_df = mango_df\n",
    "    pcm_df = pd.read_csv(pcm, skiprows=1)\n",
    "    \n",
    "    game_power_df['cpu_config'] = config\n",
    "    game_power_df['scheduler'] = sched\n",
    "    game_power_df['game'] = game\n",
    "    game_perf_df['cpu_config'] = config\n",
    "    game_perf_df['scheduler'] = sched\n",
    "    game_perf_df['game'] = game\n",
    "    pcm_df['cpu_config'] = config\n",
    "    pcm_df['scheduler'] = sched\n",
    "    pcm_df['game'] = game\n",
    "    host['cpu_config'] = config\n",
    "    host['scheduler'] = sched\n",
    "    host['game'] = game\n",
    "    socket['cpu_config'] = config\n",
    "    socket['scheduler'] = sched\n",
    "    socket['game'] = game\n",
    "\n",
    "    \n",
    "    return game_power_df, game_perf_df, pcm_df, host, socket"
   ]
  },
  {
   "cell_type": "code",
   "execution_count": 6,
   "id": "724352e4",
   "metadata": {},
   "outputs": [],
   "source": [
    "def import_data(configs, games, scheds):\n",
    "    game_power_df = []\n",
    "    game_perf_df = []\n",
    "    pcm_df = [] \n",
    "    host = []\n",
    "    socket = []\n",
    "    \n",
    "    for config in configs:\n",
    "        for game in games:\n",
    "            for sched in scheds:\n",
    "                game_power_df_, game_perf_df_, pcm_df_, host_, socket_ = import_data_(config=config, game=game, sched=sched)\n",
    "                game_power_df.append(game_power_df_)\n",
    "                game_perf_df.append(game_perf_df_)\n",
    "                pcm_df.append(pcm_df_)\n",
    "                host.append(host_)\n",
    "                socket.append(socket_)\n",
    "    \n",
    "    game_power_df = pd.concat(game_power_df, axis=0)\n",
    "    game_perf_df = pd.concat(game_perf_df, axis=0)\n",
    "    pcm_df = pd.concat(pcm_df, axis=0)\n",
    "    host = pd.concat(host, axis=0)\n",
    "    socket = pd.concat(socket, axis=0)\n",
    "    \n",
    "    pcm_df['datetime'] = pd.to_datetime(pcm_df.Date + ' ' + pcm_df.Time)\n",
    "    game_power_df['timedelta'] = pd.to_timedelta(game_power_df.timestamp, unit='s')\n",
    "    game_perf_df['timedelta'] = pd.to_timedelta(game_perf_df.elapsed, unit='ns')\n",
    "    \n",
    "    return game_power_df, game_perf_df, pcm_df, host, socket"
   ]
  },
  {
   "cell_type": "code",
   "execution_count": 7,
   "id": "79bcb08f",
   "metadata": {},
   "outputs": [],
   "source": [
    "game_power_df, game_perf_df, pcm_df, host, socket = import_data(configs, games, scheds)"
   ]
  },
  {
   "cell_type": "code",
   "execution_count": 8,
   "id": "c3da39c4",
   "metadata": {},
   "outputs": [
    {
     "data": {
      "image/png": "[encoded data removed]",
      "text/plain": [
       "<Figure size 432x288 with 1 Axes>"
      ]
     },
     "metadata": {
      "needs_background": "light"
     },
     "output_type": "display_data"
    },
    {
     "data": {
      "image/png": "[encoded data removed]",
      "text/plain": [
       "<Figure size 432x288 with 1 Axes>"
      ]
     },
     "metadata": {
      "needs_background": "light"
     },
     "output_type": "display_data"
    }
   ],
   "source": [
    "game_power_game = to_game(game_power_df)\n",
    "\n",
    "for game in games:\n",
    "    df = game_power_game[game].groupby(['cpu_config', 'scheduler', 'game']).sum(numeric_only=True).reset_index()\n",
    "    t = pd.pivot_table(df, index=['cpu_config'], columns=['scheduler'], values=['energy', 'edp'])\n",
    "    t.iloc[::-1].plot.bar(y='energy', ylabel='Energy (J)', title=game)\n",
    "    plt.xticks(rotation=0)\n",
    "    plt.show()"
   ]
  },
  {
   "cell_type": "code",
   "execution_count": 9,
   "id": "67ef7c14",
   "metadata": {},
   "outputs": [],
   "source": [
    "cols_idx = ['cpu_config', 'scheduler', 'game']\n",
    "df = socket.groupby(cols_idx).sum().reset_index()"
   ]
  },
  {
   "cell_type": "code",
   "execution_count": 10,
   "id": "51ef5e78",
   "metadata": {},
   "outputs": [],
   "source": [
    "df_config = {}\n",
    "for config in configs:\n",
    "    df_config[config] = df[df.cpu_config == config]"
   ]
  },
  {
   "cell_type": "code",
   "execution_count": 30,
   "id": "a68cb023",
   "metadata": {
    "scrolled": false
   },
   "outputs": [
    {
     "data": {
      "image/png": "[encoded data removed]",
      "text/plain": [
       "<Figure size 432x288 with 1 Axes>"
      ]
     },
     "metadata": {
      "needs_background": "light"
     },
     "output_type": "display_data"
    },
    {
     "data": {
      "image/png": "[encoded data removed]",
      "text/plain": [
       "<Figure size 432x288 with 1 Axes>"
      ]
     },
     "metadata": {
      "needs_background": "light"
     },
     "output_type": "display_data"
    },
    {
     "data": {
      "image/png": "[encoded data removed]",
      "text/plain": [
       "<Figure size 432x288 with 1 Axes>"
      ]
     },
     "metadata": {
      "needs_background": "light"
     },
     "output_type": "display_data"
    },
    {
     "data": {
      "image/png": "[encoded data removed]",
      "text/plain": [
       "<Figure size 432x288 with 1 Axes>"
      ]
     },
     "metadata": {
      "needs_background": "light"
     },
     "output_type": "display_data"
    },
    {
     "data": {
      "image/png": "[encoded data removed]",
      "text/plain": [
       "<Figure size 432x288 with 1 Axes>"
      ]
     },
     "metadata": {
      "needs_background": "light"
     },
     "output_type": "display_data"
    },
    {
     "data": {
      "image/png": "[encoded data removed]",
      "text/plain": [
       "<Figure size 432x288 with 1 Axes>"
      ]
     },
     "metadata": {
      "needs_background": "light"
     },
     "output_type": "display_data"
    }
   ],
   "source": [
    "socket_game = to_game(socket)\n",
    "\n",
    "for game in games:\n",
    "    df = socket_game[game].groupby(cols_idx).sum(numeric_only=True).reset_index()\n",
    "    t = pd.pivot_table(df, index=['cpu_config'], columns=['scheduler'], values=['socket', 'core', 'uncore']).iloc[::-1]\n",
    "    \n",
    "    t.plot.bar(y='socket', ylabel='Socket Energy (J)', title=game)\n",
    "    plt.xticks(rotation=0)\n",
    "    plt.show()\n",
    "    \n",
    "    t.plot.bar(y='core', ylabel='Core Energy (J)', title=game)\n",
    "    plt.xticks(rotation=0)\n",
    "    plt.show()\n",
    "    \n",
    "    t.plot.bar(y='uncore', ylabel='Uncore Energy (J)', title=game)\n",
    "    plt.xticks(rotation=0)\n",
    "    plt.show()"
   ]
  },
  {
   "cell_type": "code",
   "execution_count": null,
   "id": "bb5e3bf3",
   "metadata": {},
   "outputs": [],
   "source": []
  },
  {
   "cell_type": "code",
   "execution_count": 12,
   "id": "8c189fd8",
   "metadata": {},
   "outputs": [],
   "source": [
    "# sea = sns.FacetGrid(df, col='game', row='scheduler', margin_titles=True)\n",
    "# sea.map(sns.barplot, 'cpu_config', 'socket',\n",
    "#        order = configs)\n",
    "# sea.add_legend()\n",
    "# plt.show()\n",
    "\n",
    "# sea = sns.FacetGrid(df, row='game', col='scheduler', margin_titles=True)\n",
    "# sea.map(sns.barplot, 'cpu_config', 'core',\n",
    "#        order = configs)\n",
    "# sea.add_legend()\n",
    "# plt.show()\n",
    "\n",
    "# sea = sns.FacetGrid(df, row='game', col='scheduler', margin_titles=True)\n",
    "# sea.map(sns.barplot, 'cpu_config', 'uncore',\n",
    "#        order = configs)\n",
    "# sea.add_legend()\n",
    "# plt.show()"
   ]
  },
  {
   "cell_type": "code",
   "execution_count": 13,
   "id": "ce297bae",
   "metadata": {},
   "outputs": [
    {
     "data": {
      "text/plain": [
       "['fps',\n",
       " 'frametime',\n",
       " 'cpu_load',\n",
       " 'gpu_load',\n",
       " 'cpu_temp',\n",
       " 'gpu_temp',\n",
       " 'gpu_core_clock',\n",
       " 'gpu_mem_clock',\n",
       " 'gpu_vram_used',\n",
       " 'gpu_power',\n",
       " 'ram_used',\n",
       " 'swap_used',\n",
       " 'process_rss',\n",
       " 'elapsed',\n",
       " 'cpu_config',\n",
       " 'scheduler',\n",
       " 'game',\n",
       " 'timedelta']"
      ]
     },
     "execution_count": 13,
     "metadata": {},
     "output_type": "execute_result"
    }
   ],
   "source": [
    "list(game_perf_df.columns)"
   ]
  },
  {
   "cell_type": "code",
   "execution_count": 107,
   "id": "31930a31",
   "metadata": {},
   "outputs": [
    {
     "data": {
      "image/png": "[encoded data removed]",
      "text/plain": [
       "<Figure size 432x288 with 1 Axes>"
      ]
     },
     "metadata": {
      "needs_background": "light"
     },
     "output_type": "display_data"
    },
    {
     "data": {
      "image/png": "[encoded data removed]",
      "text/plain": [
       "<Figure size 432x288 with 1 Axes>"
      ]
     },
     "metadata": {
      "needs_background": "light"
     },
     "output_type": "display_data"
    },
    {
     "data": {
      "image/png": "[encoded data removed]",
      "text/plain": [
       "<Figure size 432x288 with 1 Axes>"
      ]
     },
     "metadata": {
      "needs_background": "light"
     },
     "output_type": "display_data"
    },
    {
     "data": {
      "image/png": "[encoded data removed]",
      "text/plain": [
       "<Figure size 432x288 with 1 Axes>"
      ]
     },
     "metadata": {
      "needs_background": "light"
     },
     "output_type": "display_data"
    },
    {
     "data": {
      "image/png": "[encoded data removed]",
      "text/plain": [
       "<Figure size 432x288 with 1 Axes>"
      ]
     },
     "metadata": {
      "needs_background": "light"
     },
     "output_type": "display_data"
    },
    {
     "data": {
      "image/png": "[encoded data removed]",
      "text/plain": [
       "<Figure size 432x288 with 1 Axes>"
      ]
     },
     "metadata": {
      "needs_background": "light"
     },
     "output_type": "display_data"
    }
   ],
   "source": [
    "game_perf_game = to_game(game_perf_df)\n",
    "cols_val = ['fps', 'cpu_load']\n",
    "\n",
    "speedup_quant = {'config': {}, 'sched': {}}\n",
    "speedup_median = {'config': {}, 'sched': {}}\n",
    "speedup_mean = {'config': {}, 'sched': {}}\n",
    "\n",
    "def normalize_by_config(df):\n",
    "    for config in configs:\n",
    "        df[config] /= df['6P']\n",
    "    return df.T\n",
    "\n",
    "def normalize_by_scheduler(df):\n",
    "    for sched in scheds:\n",
    "        df[sched] /= df['cfs-no-eas']\n",
    "    return df.T\n",
    "\n",
    "for game in games:\n",
    "    df_quant_01 = game_perf_game[game].groupby(cols_idx).quantile(.01, numeric_only=True).reset_index()\n",
    "    df_median = game_perf_game[game].groupby(cols_idx).median(numeric_only=True).reset_index()\n",
    "    df_mean = game_perf_game[game].groupby(cols_idx).mean(numeric_only=True).reset_index()\n",
    "    \n",
    "    \n",
    "    t_quant_01 = pd.pivot_table(df_quant_01, index=['cpu_config'], columns=['scheduler'], values=cols_val).iloc[::-1]\n",
    "    t_median = pd.pivot_table(df_median, index=['cpu_config'], columns=['scheduler'], values=cols_val).iloc[::-1]\n",
    "    t_mean = pd.pivot_table(df_mean, index=['cpu_config'], columns=['scheduler'], values=cols_val).iloc[::-1]\n",
    "    \n",
    "    speedup_quant['config'][game] = pd.pivot_table(df_quant_01, columns=['cpu_config', 'scheduler'], values=cols_val).iloc[::-1]\n",
    "    speedup_median['config'][game] = pd.pivot_table(df_mean, columns=['cpu_config', 'scheduler'], values=cols_val).iloc[::-1]\n",
    "    speedup_mean['config'][game] = pd.pivot_table(df_mean, columns=['cpu_config', 'scheduler'], values=cols_val).iloc[::-1]\n",
    "    \n",
    "    speedup_quant['sched'][game] = pd.pivot_table(df_quant_01, columns=['cpu_config', 'scheduler'][::-1], values=cols_val).iloc[::-1]\n",
    "    speedup_median['sched'][game] = pd.pivot_table(df_mean, columns=['cpu_config', 'scheduler'][::-1], values=cols_val).iloc[::-1]\n",
    "    speedup_mean['sched'][game] = pd.pivot_table(df_mean, columns=['cpu_config', 'scheduler'][::-1], values=cols_val).iloc[::-1]\n",
    "    \n",
    "    speedup_quant['config'][game] = normalize_by_config(speedup_quant['config'][game])\n",
    "    speedup_median['config'][game] = normalize_by_config(speedup_median['config'][game])\n",
    "    speedup_mean['config'][game] = normalize_by_config(speedup_mean['config'][game])\n",
    "    \n",
    "    speedup_quant['sched'][game] = normalize_by_scheduler(speedup_quant['sched'][game])\n",
    "    speedup_median['sched'][game] = normalize_by_scheduler(speedup_median['sched'][game])\n",
    "    speedup_mean['sched'][game] = normalize_by_scheduler(speedup_mean['sched'][game])\n",
    "    \n",
    "    t_quant_01.plot.bar(y='fps', ylabel='1\\% Quantile FPS', title=game)\n",
    "    plt.xticks(rotation=0)\n",
    "    plt.show()\n",
    "    \n",
    "    t_median.plot.bar(y='fps', ylabel='Median FPS', title=game)\n",
    "    plt.xticks(rotation=0)\n",
    "    plt.show()\n",
    "    \n",
    "    t_median.plot.bar(y='cpu_load', ylabel='CPU Load', title=game)\n",
    "    plt.xticks(rotation=0)\n",
    "    plt.show()\n"
   ]
  },
  {
   "cell_type": "code",
   "execution_count": 108,
   "id": "94d71cd2",
   "metadata": {},
   "outputs": [
    {
     "data": {
      "text/html": [
       "<div>\n",
       "<style scoped>\n",
       "    .dataframe tbody tr th:only-of-type {\n",
       "        vertical-align: middle;\n",
       "    }\n",
       "\n",
       "    .dataframe tbody tr th {\n",
       "        vertical-align: top;\n",
       "    }\n",
       "\n",
       "    .dataframe thead th {\n",
       "        text-align: right;\n",
       "    }\n",
       "</style>\n",
       "<table border=\"1\" class=\"dataframe\">\n",
       "  <thead>\n",
       "    <tr style=\"text-align: right;\">\n",
       "      <th></th>\n",
       "      <th>cpu_config</th>\n",
       "      <th>scheduler</th>\n",
       "      <th>cpu_load</th>\n",
       "    </tr>\n",
       "  </thead>\n",
       "  <tbody>\n",
       "    <tr>\n",
       "      <th>0</th>\n",
       "      <td>2P-4E</td>\n",
       "      <td>cfs-eas</td>\n",
       "      <td>1.591239</td>\n",
       "    </tr>\n",
       "    <tr>\n",
       "      <th>1</th>\n",
       "      <td>2P-4E</td>\n",
       "      <td>cfs-no-eas</td>\n",
       "      <td>1.586089</td>\n",
       "    </tr>\n",
       "    <tr>\n",
       "      <th>2</th>\n",
       "      <td>3P-3E</td>\n",
       "      <td>cfs-eas</td>\n",
       "      <td>1.372381</td>\n",
       "    </tr>\n",
       "    <tr>\n",
       "      <th>3</th>\n",
       "      <td>3P-3E</td>\n",
       "      <td>cfs-no-eas</td>\n",
       "      <td>1.373420</td>\n",
       "    </tr>\n",
       "    <tr>\n",
       "      <th>4</th>\n",
       "      <td>4P-2E</td>\n",
       "      <td>cfs-eas</td>\n",
       "      <td>1.231022</td>\n",
       "    </tr>\n",
       "    <tr>\n",
       "      <th>5</th>\n",
       "      <td>4P-2E</td>\n",
       "      <td>cfs-no-eas</td>\n",
       "      <td>1.238081</td>\n",
       "    </tr>\n",
       "    <tr>\n",
       "      <th>6</th>\n",
       "      <td>6P</td>\n",
       "      <td>cfs-eas</td>\n",
       "      <td>1.000000</td>\n",
       "    </tr>\n",
       "    <tr>\n",
       "      <th>7</th>\n",
       "      <td>6P</td>\n",
       "      <td>cfs-no-eas</td>\n",
       "      <td>1.000000</td>\n",
       "    </tr>\n",
       "  </tbody>\n",
       "</table>\n",
       "</div>"
      ],
      "text/plain": [
       "  cpu_config   scheduler  cpu_load\n",
       "0      2P-4E     cfs-eas  1.591239\n",
       "1      2P-4E  cfs-no-eas  1.586089\n",
       "2      3P-3E     cfs-eas  1.372381\n",
       "3      3P-3E  cfs-no-eas  1.373420\n",
       "4      4P-2E     cfs-eas  1.231022\n",
       "5      4P-2E  cfs-no-eas  1.238081\n",
       "6         6P     cfs-eas  1.000000\n",
       "7         6P  cfs-no-eas  1.000000"
      ]
     },
     "execution_count": 108,
     "metadata": {},
     "output_type": "execute_result"
    }
   ],
   "source": [
    "speedup_median['config']['xonotic'].reset_index()[['cpu_config', 'scheduler', 'cpu_load']]"
   ]
  },
  {
   "cell_type": "code",
   "execution_count": 111,
   "id": "b0936581",
   "metadata": {},
   "outputs": [
    {
     "data": {
      "text/plain": [
       "scheduler   cpu_config\n",
       "cfs-eas     2P-4E         1.018860\n",
       "            3P-3E         1.022942\n",
       "            4P-2E         1.028030\n",
       "            6P            1.022168\n",
       "cfs-no-eas  2P-4E         1.000000\n",
       "            3P-3E         1.000000\n",
       "            4P-2E         1.000000\n",
       "            6P            1.000000\n",
       "Name: cpu_load, dtype: float64"
      ]
     },
     "execution_count": 111,
     "metadata": {},
     "output_type": "execute_result"
    }
   ],
   "source": [
    "1 / speedup_median['sched']['xonotic']['cpu_load']"
   ]
  },
  {
   "cell_type": "code",
   "execution_count": 15,
   "id": "40078df5",
   "metadata": {},
   "outputs": [],
   "source": [
    "# df_quant_01 = game_perf_df.groupby(cols_idx).quantile(.01, numeric_only=True).reset_index()\n",
    "# df_median = game_perf_df.groupby(cols_idx).median(numeric_only=True).reset_index()\n",
    "# df_mean = game_perf_df.groupby(cols_idx).mean(numeric_only=True).reset_index()"
   ]
  },
  {
   "cell_type": "code",
   "execution_count": 16,
   "id": "0ecff8a7",
   "metadata": {},
   "outputs": [],
   "source": [
    "# sea = sns.FacetGrid(df_quant_01, row='game', col='scheduler', margin_titles=True)\n",
    "# sea.map(sns.barplot, 'cpu_config', 'fps',\n",
    "#        order = configs)\n",
    "# sea.add_legend()\n",
    "# plt.show()\n",
    "\n",
    "# sea = sns.FacetGrid(df_median, row='game', col='scheduler', margin_titles=True)\n",
    "# sea.map(sns.barplot, 'cpu_config', 'cpu_load',\n",
    "#        order = configs)\n",
    "# sea.add_legend()\n",
    "# plt.show()\n",
    "\n",
    "# # sea = sns.FacetGrid(df_median, row='game', col='scheduler', margin_titles=True)\n",
    "# # sea.map(sns.barplot, 'cpu_config', 'cpu_temp',\n",
    "# #        order = configs)\n",
    "# # sea.add_legend()\n",
    "# # plt.show()"
   ]
  },
  {
   "cell_type": "code",
   "execution_count": 17,
   "id": "fcd456d8",
   "metadata": {},
   "outputs": [],
   "source": [
    "df_mean = pcm_df.groupby(cols_idx).mean(numeric_only=True).reset_index()\n",
    "df_sum = pcm_df.groupby(cols_idx).sum(numeric_only=True).reset_index()"
   ]
  },
  {
   "cell_type": "code",
   "execution_count": 18,
   "id": "db5b1a0a",
   "metadata": {
    "scrolled": true
   },
   "outputs": [
    {
     "data": {
      "text/plain": [
       "['Date',\n",
       " 'Time',\n",
       " 'EXEC',\n",
       " 'IPC',\n",
       " 'FREQ',\n",
       " 'AFREQ',\n",
       " 'CFREQ',\n",
       " 'L3MISS',\n",
       " 'L2MISS',\n",
       " 'L3HIT',\n",
       " 'L2HIT',\n",
       " 'L3MPI',\n",
       " 'L2MPI',\n",
       " 'READ',\n",
       " 'WRITE',\n",
       " 'INST',\n",
       " 'ACYC',\n",
       " 'TIME(ticks)',\n",
       " 'PhysIPC',\n",
       " 'PhysIPC%',\n",
       " 'INSTnom',\n",
       " 'INSTnom%',\n",
       " 'C0res%',\n",
       " 'C1res%',\n",
       " 'C3res%',\n",
       " 'C6res%',\n",
       " 'C7res%',\n",
       " 'C0res%.1',\n",
       " 'C2res%',\n",
       " 'C4res%',\n",
       " 'C6res%.1',\n",
       " 'Proc Energy (Joules)',\n",
       " 'Power Plane 0 Energy (Joules)',\n",
       " 'Power Plane 1 Energy (Joules)',\n",
       " 'EXEC.1',\n",
       " 'IPC.1',\n",
       " 'FREQ.1',\n",
       " 'AFREQ.1',\n",
       " 'CFREQ.1',\n",
       " 'L3MISS.1',\n",
       " 'L2MISS.1',\n",
       " 'L3HIT.1',\n",
       " 'L2HIT.1',\n",
       " 'L3MPI.1',\n",
       " 'L2MPI.1',\n",
       " 'READ.1',\n",
       " 'WRITE.1',\n",
       " 'TEMP',\n",
       " 'INST.1',\n",
       " 'ACYC.1',\n",
       " 'TIME(ticks).1',\n",
       " 'PhysIPC.1',\n",
       " 'PhysIPC%.1',\n",
       " 'INSTnom.1',\n",
       " 'INSTnom%.1',\n",
       " 'C0res%.2',\n",
       " 'C1res%.1',\n",
       " 'C3res%.1',\n",
       " 'C6res%.2',\n",
       " 'C7res%.1',\n",
       " 'C0res%.3',\n",
       " 'C2res%.1',\n",
       " 'C4res%.1',\n",
       " 'C6res%.3',\n",
       " 'SKT0',\n",
       " 'SKT0.1',\n",
       " 'SKT0.2',\n",
       " 'EXEC.2',\n",
       " 'IPC.2',\n",
       " 'FREQ.2',\n",
       " 'AFREQ.2',\n",
       " 'CFREQ.2',\n",
       " 'L3MISS.2',\n",
       " 'L2MISS.2',\n",
       " 'L3HIT.2',\n",
       " 'L2HIT.2',\n",
       " 'L3MPI.2',\n",
       " 'L2MPI.2',\n",
       " 'C0res%.4',\n",
       " 'C1res%.2',\n",
       " 'C3res%.2',\n",
       " 'C6res%.4',\n",
       " 'C7res%.2',\n",
       " 'TEMP.1',\n",
       " 'INST.2',\n",
       " 'ACYC.2',\n",
       " 'TIME(ticks).2',\n",
       " 'PhysIPC.2',\n",
       " 'PhysIPC%.2',\n",
       " 'INSTnom.2',\n",
       " 'INSTnom%.2',\n",
       " 'EXEC.3',\n",
       " 'IPC.3',\n",
       " 'FREQ.3',\n",
       " 'AFREQ.3',\n",
       " 'CFREQ.3',\n",
       " 'L3MISS.3',\n",
       " 'L2MISS.3',\n",
       " 'L3HIT.3',\n",
       " 'L2HIT.3',\n",
       " 'L3MPI.3',\n",
       " 'L2MPI.3',\n",
       " 'C0res%.5',\n",
       " 'C1res%.3',\n",
       " 'C3res%.3',\n",
       " 'C6res%.5',\n",
       " 'C7res%.3',\n",
       " 'TEMP.2',\n",
       " 'INST.3',\n",
       " 'ACYC.3',\n",
       " 'TIME(ticks).3',\n",
       " 'PhysIPC.3',\n",
       " 'PhysIPC%.3',\n",
       " 'INSTnom.3',\n",
       " 'INSTnom%.3',\n",
       " 'EXEC.4',\n",
       " 'IPC.4',\n",
       " 'FREQ.4',\n",
       " 'AFREQ.4',\n",
       " 'CFREQ.4',\n",
       " 'L3MISS.4',\n",
       " 'L2MISS.4',\n",
       " 'L3HIT.4',\n",
       " 'L2HIT.4',\n",
       " 'L3MPI.4',\n",
       " 'L2MPI.4',\n",
       " 'C0res%.6',\n",
       " 'C1res%.4',\n",
       " 'C3res%.4',\n",
       " 'C6res%.6',\n",
       " 'C7res%.4',\n",
       " 'TEMP.3',\n",
       " 'INST.4',\n",
       " 'ACYC.4',\n",
       " 'TIME(ticks).4',\n",
       " 'PhysIPC.4',\n",
       " 'PhysIPC%.4',\n",
       " 'INSTnom.4',\n",
       " 'INSTnom%.4',\n",
       " 'EXEC.5',\n",
       " 'IPC.5',\n",
       " 'FREQ.5',\n",
       " 'AFREQ.5',\n",
       " 'CFREQ.5',\n",
       " 'L3MISS.5',\n",
       " 'L2MISS.5',\n",
       " 'L3HIT.5',\n",
       " 'L2HIT.5',\n",
       " 'L3MPI.5',\n",
       " 'L2MPI.5',\n",
       " 'C0res%.7',\n",
       " 'C1res%.5',\n",
       " 'C3res%.5',\n",
       " 'C6res%.7',\n",
       " 'C7res%.5',\n",
       " 'TEMP.4',\n",
       " 'INST.5',\n",
       " 'ACYC.5',\n",
       " 'TIME(ticks).5',\n",
       " 'PhysIPC.5',\n",
       " 'PhysIPC%.5',\n",
       " 'INSTnom.5',\n",
       " 'INSTnom%.5',\n",
       " 'EXEC.6',\n",
       " 'IPC.6',\n",
       " 'FREQ.6',\n",
       " 'AFREQ.6',\n",
       " 'CFREQ.6',\n",
       " 'L3MISS.6',\n",
       " 'L2MISS.6',\n",
       " 'L3HIT.6',\n",
       " 'L2HIT.6',\n",
       " 'L3MPI.6',\n",
       " 'L2MPI.6',\n",
       " 'C0res%.8',\n",
       " 'C1res%.6',\n",
       " 'C3res%.6',\n",
       " 'C6res%.8',\n",
       " 'C7res%.6',\n",
       " 'TEMP.5',\n",
       " 'INST.6',\n",
       " 'ACYC.6',\n",
       " 'TIME(ticks).6',\n",
       " 'PhysIPC.6',\n",
       " 'PhysIPC%.6',\n",
       " 'INSTnom.6',\n",
       " 'INSTnom%.6',\n",
       " 'EXEC.7',\n",
       " 'IPC.7',\n",
       " 'FREQ.7',\n",
       " 'AFREQ.7',\n",
       " 'CFREQ.7',\n",
       " 'L3MISS.7',\n",
       " 'L2MISS.7',\n",
       " 'L3HIT.7',\n",
       " 'L2HIT.7',\n",
       " 'L3MPI.7',\n",
       " 'L2MPI.7',\n",
       " 'C0res%.9',\n",
       " 'C1res%.7',\n",
       " 'C3res%.7',\n",
       " 'C6res%.9',\n",
       " 'C7res%.7',\n",
       " 'TEMP.6',\n",
       " 'INST.7',\n",
       " 'ACYC.7',\n",
       " 'TIME(ticks).7',\n",
       " 'PhysIPC.7',\n",
       " 'PhysIPC%.7',\n",
       " 'INSTnom.7',\n",
       " 'INSTnom%.7',\n",
       " 'EXEC.8',\n",
       " 'IPC.8',\n",
       " 'FREQ.8',\n",
       " 'AFREQ.8',\n",
       " 'CFREQ.8',\n",
       " 'L3MISS.8',\n",
       " 'L2MISS.8',\n",
       " 'L3HIT.8',\n",
       " 'L2HIT.8',\n",
       " 'L3MPI.8',\n",
       " 'L2MPI.8',\n",
       " 'C0res%.10',\n",
       " 'C1res%.8',\n",
       " 'C3res%.8',\n",
       " 'C6res%.10',\n",
       " 'C7res%.8',\n",
       " 'TEMP.7',\n",
       " 'INST.8',\n",
       " 'ACYC.8',\n",
       " 'TIME(ticks).8',\n",
       " 'PhysIPC.8',\n",
       " 'PhysIPC%.8',\n",
       " 'INSTnom.8',\n",
       " 'INSTnom%.8',\n",
       " 'EXEC.9',\n",
       " 'IPC.9',\n",
       " 'FREQ.9',\n",
       " 'AFREQ.9',\n",
       " 'CFREQ.9',\n",
       " 'L3MISS.9',\n",
       " 'L2MISS.9',\n",
       " 'L3HIT.9',\n",
       " 'L2HIT.9',\n",
       " 'L3MPI.9',\n",
       " 'L2MPI.9',\n",
       " 'C0res%.11',\n",
       " 'C1res%.9',\n",
       " 'C3res%.9',\n",
       " 'C6res%.11',\n",
       " 'C7res%.9',\n",
       " 'TEMP.8',\n",
       " 'INST.9',\n",
       " 'ACYC.9',\n",
       " 'TIME(ticks).9',\n",
       " 'PhysIPC.9',\n",
       " 'PhysIPC%.9',\n",
       " 'INSTnom.9',\n",
       " 'INSTnom%.9',\n",
       " 'EXEC.10',\n",
       " 'IPC.10',\n",
       " 'FREQ.10',\n",
       " 'AFREQ.10',\n",
       " 'CFREQ.10',\n",
       " 'L3MISS.10',\n",
       " 'L2MISS.10',\n",
       " 'L3HIT.10',\n",
       " 'L2HIT.10',\n",
       " 'L3MPI.10',\n",
       " 'L2MPI.10',\n",
       " 'C0res%.12',\n",
       " 'C1res%.10',\n",
       " 'C3res%.10',\n",
       " 'C6res%.12',\n",
       " 'C7res%.10',\n",
       " 'TEMP.9',\n",
       " 'INST.10',\n",
       " 'ACYC.10',\n",
       " 'TIME(ticks).10',\n",
       " 'PhysIPC.10',\n",
       " 'PhysIPC%.10',\n",
       " 'INSTnom.10',\n",
       " 'INSTnom%.10',\n",
       " 'EXEC.11',\n",
       " 'IPC.11',\n",
       " 'FREQ.11',\n",
       " 'AFREQ.11',\n",
       " 'CFREQ.11',\n",
       " 'L3MISS.11',\n",
       " 'L2MISS.11',\n",
       " 'L3HIT.11',\n",
       " 'L2HIT.11',\n",
       " 'L3MPI.11',\n",
       " 'L2MPI.11',\n",
       " 'C0res%.13',\n",
       " 'C1res%.11',\n",
       " 'C3res%.11',\n",
       " 'C6res%.13',\n",
       " 'C7res%.11',\n",
       " 'TEMP.10',\n",
       " 'INST.11',\n",
       " 'ACYC.11',\n",
       " 'TIME(ticks).11',\n",
       " 'PhysIPC.11',\n",
       " 'PhysIPC%.11',\n",
       " 'INSTnom.11',\n",
       " 'INSTnom%.11',\n",
       " 'EXEC.12',\n",
       " 'IPC.12',\n",
       " 'FREQ.12',\n",
       " 'AFREQ.12',\n",
       " 'CFREQ.12',\n",
       " 'L3MISS.12',\n",
       " 'L2MISS.12',\n",
       " 'L3HIT.12',\n",
       " 'L2HIT.12',\n",
       " 'L3MPI.12',\n",
       " 'L2MPI.12',\n",
       " 'C0res%.14',\n",
       " 'C1res%.12',\n",
       " 'C3res%.12',\n",
       " 'C6res%.14',\n",
       " 'C7res%.12',\n",
       " 'TEMP.11',\n",
       " 'INST.12',\n",
       " 'ACYC.12',\n",
       " 'TIME(ticks).12',\n",
       " 'PhysIPC.12',\n",
       " 'PhysIPC%.12',\n",
       " 'INSTnom.12',\n",
       " 'INSTnom%.12',\n",
       " 'EXEC.13',\n",
       " 'IPC.13',\n",
       " 'FREQ.13',\n",
       " 'AFREQ.13',\n",
       " 'CFREQ.13',\n",
       " 'L3MISS.13',\n",
       " 'L2MISS.13',\n",
       " 'L3HIT.13',\n",
       " 'L2HIT.13',\n",
       " 'L3MPI.13',\n",
       " 'L2MPI.13',\n",
       " 'C0res%.15',\n",
       " 'C1res%.13',\n",
       " 'C3res%.13',\n",
       " 'C6res%.15',\n",
       " 'C7res%.13',\n",
       " 'TEMP.12',\n",
       " 'INST.13',\n",
       " 'ACYC.13',\n",
       " 'TIME(ticks).13',\n",
       " 'PhysIPC.13',\n",
       " 'PhysIPC%.13',\n",
       " 'INSTnom.13',\n",
       " 'INSTnom%.13',\n",
       " 'EXEC.14',\n",
       " 'IPC.14',\n",
       " 'FREQ.14',\n",
       " 'AFREQ.14',\n",
       " 'CFREQ.14',\n",
       " 'L3MISS.14',\n",
       " 'L2MISS.14',\n",
       " 'L3HIT.14',\n",
       " 'L2HIT.14',\n",
       " 'L3MPI.14',\n",
       " 'L2MPI.14',\n",
       " 'C0res%.16',\n",
       " 'C1res%.14',\n",
       " 'C3res%.14',\n",
       " 'C6res%.16',\n",
       " 'C7res%.14',\n",
       " 'TEMP.13',\n",
       " 'INST.14',\n",
       " 'ACYC.14',\n",
       " 'TIME(ticks).14',\n",
       " 'PhysIPC.14',\n",
       " 'PhysIPC%.14',\n",
       " 'INSTnom.14',\n",
       " 'INSTnom%.14',\n",
       " 'EXEC.15',\n",
       " 'IPC.15',\n",
       " 'FREQ.15',\n",
       " 'AFREQ.15',\n",
       " 'CFREQ.15',\n",
       " 'L3MISS.15',\n",
       " 'L2MISS.15',\n",
       " 'L3HIT.15',\n",
       " 'L2HIT.15',\n",
       " 'L3MPI.15',\n",
       " 'L2MPI.15',\n",
       " 'C0res%.17',\n",
       " 'C1res%.15',\n",
       " 'C3res%.15',\n",
       " 'C6res%.17',\n",
       " 'C7res%.15',\n",
       " 'TEMP.14',\n",
       " 'INST.15',\n",
       " 'ACYC.15',\n",
       " 'TIME(ticks).15',\n",
       " 'PhysIPC.15',\n",
       " 'PhysIPC%.15',\n",
       " 'INSTnom.15',\n",
       " 'INSTnom%.15',\n",
       " 'EXEC.16',\n",
       " 'IPC.16',\n",
       " 'FREQ.16',\n",
       " 'AFREQ.16',\n",
       " 'CFREQ.16',\n",
       " 'L3MISS.16',\n",
       " 'L2MISS.16',\n",
       " 'L3HIT.16',\n",
       " 'L2HIT.16',\n",
       " 'L3MPI.16',\n",
       " 'L2MPI.16',\n",
       " 'C0res%.18',\n",
       " 'C1res%.16',\n",
       " 'C3res%.16',\n",
       " 'C6res%.18',\n",
       " 'C7res%.16',\n",
       " 'TEMP.15',\n",
       " 'INST.16',\n",
       " 'ACYC.16',\n",
       " 'TIME(ticks).16',\n",
       " 'PhysIPC.16',\n",
       " 'PhysIPC%.16',\n",
       " 'INSTnom.16',\n",
       " 'INSTnom%.16',\n",
       " 'EXEC.17',\n",
       " 'IPC.17',\n",
       " 'FREQ.17',\n",
       " 'AFREQ.17',\n",
       " 'CFREQ.17',\n",
       " 'L3MISS.17',\n",
       " 'L2MISS.17',\n",
       " 'L3HIT.17',\n",
       " 'L2HIT.17',\n",
       " 'L3MPI.17',\n",
       " 'L2MPI.17',\n",
       " 'C0res%.19',\n",
       " 'C1res%.17',\n",
       " 'C3res%.17',\n",
       " 'C6res%.19',\n",
       " 'C7res%.17',\n",
       " 'TEMP.16',\n",
       " 'INST.17',\n",
       " 'ACYC.17',\n",
       " 'TIME(ticks).17',\n",
       " 'PhysIPC.17',\n",
       " 'PhysIPC%.17',\n",
       " 'INSTnom.17',\n",
       " 'INSTnom%.17',\n",
       " 'EXEC.18',\n",
       " 'IPC.18',\n",
       " 'FREQ.18',\n",
       " 'AFREQ.18',\n",
       " 'CFREQ.18',\n",
       " 'L3MISS.18',\n",
       " 'L2MISS.18',\n",
       " 'L3HIT.18',\n",
       " 'L2HIT.18',\n",
       " 'L3MPI.18',\n",
       " 'L2MPI.18',\n",
       " 'C0res%.20',\n",
       " 'C1res%.18',\n",
       " 'C3res%.18',\n",
       " 'C6res%.20',\n",
       " 'C7res%.18',\n",
       " 'TEMP.17',\n",
       " 'INST.18',\n",
       " 'ACYC.18',\n",
       " 'TIME(ticks).18',\n",
       " 'PhysIPC.18',\n",
       " 'PhysIPC%.18',\n",
       " 'INSTnom.18',\n",
       " 'INSTnom%.18',\n",
       " 'EXEC.19',\n",
       " 'IPC.19',\n",
       " 'FREQ.19',\n",
       " 'AFREQ.19',\n",
       " 'CFREQ.19',\n",
       " 'L3MISS.19',\n",
       " 'L2MISS.19',\n",
       " 'L3HIT.19',\n",
       " 'L2HIT.19',\n",
       " 'L3MPI.19',\n",
       " 'L2MPI.19',\n",
       " 'C0res%.21',\n",
       " 'C1res%.19',\n",
       " 'C3res%.19',\n",
       " 'C6res%.21',\n",
       " 'C7res%.19',\n",
       " 'TEMP.18',\n",
       " 'INST.19',\n",
       " 'ACYC.19',\n",
       " 'TIME(ticks).19',\n",
       " 'PhysIPC.19',\n",
       " 'PhysIPC%.19',\n",
       " 'INSTnom.19',\n",
       " 'INSTnom%.19',\n",
       " 'EXEC.20',\n",
       " 'IPC.20',\n",
       " 'FREQ.20',\n",
       " 'AFREQ.20',\n",
       " 'CFREQ.20',\n",
       " 'L3MISS.20',\n",
       " 'L2MISS.20',\n",
       " 'L3HIT.20',\n",
       " 'L2HIT.20',\n",
       " 'L3MPI.20',\n",
       " 'L2MPI.20',\n",
       " 'C0res%.22',\n",
       " 'C1res%.20',\n",
       " 'C3res%.20',\n",
       " 'C6res%.22',\n",
       " 'C7res%.20',\n",
       " 'TEMP.19',\n",
       " 'INST.20',\n",
       " 'ACYC.20',\n",
       " 'TIME(ticks).20',\n",
       " 'PhysIPC.20',\n",
       " 'PhysIPC%.20',\n",
       " 'INSTnom.20',\n",
       " 'INSTnom%.20',\n",
       " 'EXEC.21',\n",
       " 'IPC.21',\n",
       " 'FREQ.21',\n",
       " 'AFREQ.21',\n",
       " 'CFREQ.21',\n",
       " 'L3MISS.21',\n",
       " 'L2MISS.21',\n",
       " 'L3HIT.21',\n",
       " 'L2HIT.21',\n",
       " 'L3MPI.21',\n",
       " 'L2MPI.21',\n",
       " 'C0res%.23',\n",
       " 'C1res%.21',\n",
       " 'C3res%.21',\n",
       " 'C6res%.23',\n",
       " 'C7res%.21',\n",
       " 'TEMP.20',\n",
       " 'INST.21',\n",
       " 'ACYC.21',\n",
       " 'TIME(ticks).21',\n",
       " 'PhysIPC.21',\n",
       " 'PhysIPC%.21',\n",
       " 'INSTnom.21',\n",
       " 'INSTnom%.21',\n",
       " 'Unnamed: 547',\n",
       " 'cpu_config',\n",
       " 'scheduler',\n",
       " 'game',\n",
       " 'datetime']"
      ]
     },
     "execution_count": 18,
     "metadata": {},
     "output_type": "execute_result"
    }
   ],
   "source": [
    "list(pcm_df.columns)"
   ]
  },
  {
   "cell_type": "code",
   "execution_count": 35,
   "id": "c43359bf",
   "metadata": {
    "scrolled": false
   },
   "outputs": [
    {
     "data": {
      "image/png": "[encoded data removed]",
      "text/plain": [
       "<Figure size 432x288 with 1 Axes>"
      ]
     },
     "metadata": {
      "needs_background": "light"
     },
     "output_type": "display_data"
    },
    {
     "data": {
      "image/png": "[encoded data removed]",
      "text/plain": [
       "<Figure size 432x288 with 1 Axes>"
      ]
     },
     "metadata": {
      "needs_background": "light"
     },
     "output_type": "display_data"
    },
    {
     "data": {
      "image/png": "[encoded data removed]",
      "text/plain": [
       "<Figure size 432x288 with 1 Axes>"
      ]
     },
     "metadata": {
      "needs_background": "light"
     },
     "output_type": "display_data"
    },
    {
     "data": {
      "image/png": "[encoded data removed]",
      "text/plain": [
       "<Figure size 432x288 with 1 Axes>"
      ]
     },
     "metadata": {
      "needs_background": "light"
     },
     "output_type": "display_data"
    },
    {
     "data": {
      "image/png": "[encoded data removed]",
      "text/plain": [
       "<Figure size 432x288 with 1 Axes>"
      ]
     },
     "metadata": {
      "needs_background": "light"
     },
     "output_type": "display_data"
    },
    {
     "data": {
      "image/png": "[encoded data removed]",
      "text/plain": [
       "<Figure size 432x288 with 1 Axes>"
      ]
     },
     "metadata": {
      "needs_background": "light"
     },
     "output_type": "display_data"
    },
    {
     "data": {
      "image/png": "[encoded data removed]",
      "text/plain": [
       "<Figure size 432x288 with 1 Axes>"
      ]
     },
     "metadata": {
      "needs_background": "light"
     },
     "output_type": "display_data"
    },
    {
     "data": {
      "image/png": "[encoded data removed]",
      "text/plain": [
       "<Figure size 432x288 with 1 Axes>"
      ]
     },
     "metadata": {
      "needs_background": "light"
     },
     "output_type": "display_data"
    },
    {
     "data": {
      "image/png": "[encoded data removed]",
      "text/plain": [
       "<Figure size 432x288 with 1 Axes>"
      ]
     },
     "metadata": {
      "needs_background": "light"
     },
     "output_type": "display_data"
    },
    {
     "data": {
      "image/png": "[encoded data removed]",
      "text/plain": [
       "<Figure size 432x288 with 1 Axes>"
      ]
     },
     "metadata": {
      "needs_background": "light"
     },
     "output_type": "display_data"
    },
    {
     "data": {
      "image/png": "[encoded data removed]",
      "text/plain": [
       "<Figure size 432x288 with 1 Axes>"
      ]
     },
     "metadata": {
      "needs_background": "light"
     },
     "output_type": "display_data"
    },
    {
     "data": {
      "image/png": "[encoded data removed]",
      "text/plain": [
       "<Figure size 432x288 with 1 Axes>"
      ]
     },
     "metadata": {
      "needs_background": "light"
     },
     "output_type": "display_data"
    }
   ],
   "source": [
    "pcm_game = to_game(pcm_df)\n",
    "cols_val = ['EXEC', 'IPC', 'FREQ', 'AFREQ', 'L3MISS', 'L3HIT', 'L3MPI', 'L2MISS', 'L2HIT', 'L2MPI', 'CFREQ',\n",
    "           'PhysIPC', 'Proc Energy (Joules)', 'Power Plane 0 Energy (Joules)', 'Power Plane 1 Energy (Joules)',\n",
    "           ]\n",
    "\n",
    "for game in games:\n",
    "    df_sum = pcm_game[game].groupby(cols_idx).sum(numeric_only=True).reset_index()\n",
    "    df_median = pcm_game[game].groupby(cols_idx).median(numeric_only=True).reset_index()\n",
    "    df_mean = pcm_game[game].groupby(cols_idx).mean(numeric_only=True).reset_index()\n",
    "    \n",
    "    \n",
    "    t_sum = pd.pivot_table(df_sum, index=['cpu_config'], columns=['scheduler'], values=cols_val).iloc[::-1]\n",
    "    t_median = pd.pivot_table(df_median, index=['cpu_config'], columns=['scheduler'], values=cols_val).iloc[::-1]\n",
    "    t_mean = pd.pivot_table(df_mean, index=['cpu_config'], columns=['scheduler'], values=cols_val).iloc[::-1]\n",
    "    \n",
    "    \n",
    "    t_mean.plot.bar(y='EXEC', ylabel='IPC', title=game)\n",
    "    plt.xticks(rotation=0)\n",
    "    plt.show()\n",
    "    \n",
    "    t_mean.plot.bar(y='IPC', ylabel='IPC-norm', title=game)\n",
    "    plt.xticks(rotation=0)\n",
    "    plt.show()\n",
    "    \n",
    "    t_sum.plot.bar(y='L3HIT', ylabel='L3 Hits', title=game)\n",
    "    plt.xticks(rotation=0)\n",
    "    plt.show()\n",
    "    \n",
    "    t_sum.plot.bar(y='L3MISS', ylabel='L3 Misses', title=game)\n",
    "    plt.xticks(rotation=0)\n",
    "    plt.show()\n",
    "    \n",
    "    t_sum.plot.bar(y='L2HIT', ylabel='L2 Hits', title=game)\n",
    "    plt.xticks(rotation=0)\n",
    "    plt.show()\n",
    "    \n",
    "    t_sum.plot.bar(y='L2MISS', ylabel='L2 Misses', title=game)\n",
    "    plt.xticks(rotation=0)\n",
    "    plt.show()\n",
    "    \n",
    "#     t_mean.plot.bar(y='FREQ', ylabel='FREQ', title=game)\n",
    "#     plt.xticks(rotation=0)\n",
    "#     plt.show()\n",
    "    \n",
    "#     t_mean.plot.bar(y='AFREQ', ylabel='AFREQ', title=game)\n",
    "#     plt.xticks(rotation=0)\n",
    "#     plt.show()\n",
    "    \n",
    "#     t_mean.plot.bar(y='CFREQ', ylabel='CFREQ', title=game)\n",
    "#     plt.xticks(rotation=0)\n",
    "#     plt.show()\n",
    "    \n",
    "#     t_sum.plot.bar(y='Proc Energy (Joules)', ylabel='Proc Energy (Joules)', title=game)\n",
    "#     plt.xticks(rotation=0)\n",
    "#     plt.show()\n"
   ]
  },
  {
   "cell_type": "code",
   "execution_count": 20,
   "id": "d1aed49a",
   "metadata": {},
   "outputs": [],
   "source": [
    "pcm_sched_config = to_sched_config(pcm_df)\n"
   ]
  },
  {
   "cell_type": "code",
   "execution_count": 21,
   "id": "1119bad4",
   "metadata": {},
   "outputs": [],
   "source": [
    "game_perf_sched_config = to_sched_config(game_perf_df)"
   ]
  },
  {
   "cell_type": "code",
   "execution_count": 22,
   "id": "af3e534b",
   "metadata": {},
   "outputs": [],
   "source": [
    "game_power_sched_config = to_sched_config(game_power_df)"
   ]
  },
  {
   "cell_type": "code",
   "execution_count": 23,
   "id": "a21b02da",
   "metadata": {},
   "outputs": [
    {
     "data": {
      "text/plain": [
       "0     2024-03-06\n",
       "1     2024-03-06\n",
       "2     2024-03-06\n",
       "3     2024-03-06\n",
       "4     2024-03-06\n",
       "         ...    \n",
       "594   2024-03-06\n",
       "595   2024-03-06\n",
       "596   2024-03-06\n",
       "597   2024-03-06\n",
       "598   2024-03-06\n",
       "Name: Date, Length: 9575, dtype: datetime64[ns]"
      ]
     },
     "execution_count": 23,
     "metadata": {},
     "output_type": "execute_result"
    }
   ],
   "source": [
    "pd.to_datetime(pcm_df['Date'])"
   ]
  },
  {
   "cell_type": "code",
   "execution_count": 24,
   "id": "fa6c490a",
   "metadata": {},
   "outputs": [],
   "source": [
    "pd.to_datetime?"
   ]
  },
  {
   "cell_type": "code",
   "execution_count": 25,
   "id": "d32251fb",
   "metadata": {},
   "outputs": [],
   "source": [
    "# list(pcm_df.columns)"
   ]
  },
  {
   "cell_type": "code",
   "execution_count": null,
   "id": "cc566bf8",
   "metadata": {},
   "outputs": [],
   "source": []
  },
  {
   "cell_type": "code",
   "execution_count": null,
   "id": "20baa907",
   "metadata": {},
   "outputs": [],
   "source": []
  },
  {
   "cell_type": "code",
   "execution_count": 26,
   "id": "00de800a",
   "metadata": {},
   "outputs": [
    {
     "data": {
      "text/html": [
       "<div>\n",
       "<style scoped>\n",
       "    .dataframe tbody tr th:only-of-type {\n",
       "        vertical-align: middle;\n",
       "    }\n",
       "\n",
       "    .dataframe tbody tr th {\n",
       "        vertical-align: top;\n",
       "    }\n",
       "\n",
       "    .dataframe thead th {\n",
       "        text-align: right;\n",
       "    }\n",
       "</style>\n",
       "<table border=\"1\" class=\"dataframe\">\n",
       "  <thead>\n",
       "    <tr style=\"text-align: right;\">\n",
       "      <th></th>\n",
       "      <th>cpu_config</th>\n",
       "      <th>scheduler</th>\n",
       "      <th>game</th>\n",
       "      <th>timestamp</th>\n",
       "      <th>socket</th>\n",
       "      <th>core</th>\n",
       "      <th>uncore</th>\n",
       "    </tr>\n",
       "  </thead>\n",
       "  <tbody>\n",
       "    <tr>\n",
       "      <th>0</th>\n",
       "      <td>2P-4E</td>\n",
       "      <td>cfs-eas</td>\n",
       "      <td>supertux</td>\n",
       "      <td>166642.323121</td>\n",
       "      <td>5899.164023</td>\n",
       "      <td>2138.189744</td>\n",
       "      <td>313.066678</td>\n",
       "    </tr>\n",
       "    <tr>\n",
       "      <th>1</th>\n",
       "      <td>2P-4E</td>\n",
       "      <td>cfs-no-eas</td>\n",
       "      <td>supertux</td>\n",
       "      <td>166985.144508</td>\n",
       "      <td>5853.667315</td>\n",
       "      <td>2117.640781</td>\n",
       "      <td>308.463650</td>\n",
       "    </tr>\n",
       "    <tr>\n",
       "      <th>2</th>\n",
       "      <td>3P-3E</td>\n",
       "      <td>cfs-eas</td>\n",
       "      <td>supertux</td>\n",
       "      <td>166258.175336</td>\n",
       "      <td>5933.972592</td>\n",
       "      <td>2211.696022</td>\n",
       "      <td>312.780441</td>\n",
       "    </tr>\n",
       "    <tr>\n",
       "      <th>3</th>\n",
       "      <td>3P-3E</td>\n",
       "      <td>cfs-no-eas</td>\n",
       "      <td>supertux</td>\n",
       "      <td>167959.351617</td>\n",
       "      <td>6026.262648</td>\n",
       "      <td>2249.325973</td>\n",
       "      <td>312.167463</td>\n",
       "    </tr>\n",
       "    <tr>\n",
       "      <th>4</th>\n",
       "      <td>4P-2E</td>\n",
       "      <td>cfs-eas</td>\n",
       "      <td>supertux</td>\n",
       "      <td>167308.785852</td>\n",
       "      <td>6121.521422</td>\n",
       "      <td>2373.302109</td>\n",
       "      <td>316.753518</td>\n",
       "    </tr>\n",
       "  </tbody>\n",
       "</table>\n",
       "</div>"
      ],
      "text/plain": [
       "  cpu_config   scheduler      game      timestamp       socket         core  \\\n",
       "0      2P-4E     cfs-eas  supertux  166642.323121  5899.164023  2138.189744   \n",
       "1      2P-4E  cfs-no-eas  supertux  166985.144508  5853.667315  2117.640781   \n",
       "2      3P-3E     cfs-eas  supertux  166258.175336  5933.972592  2211.696022   \n",
       "3      3P-3E  cfs-no-eas  supertux  167959.351617  6026.262648  2249.325973   \n",
       "4      4P-2E     cfs-eas  supertux  167308.785852  6121.521422  2373.302109   \n",
       "\n",
       "       uncore  \n",
       "0  313.066678  \n",
       "1  308.463650  \n",
       "2  312.780441  \n",
       "3  312.167463  \n",
       "4  316.753518  "
      ]
     },
     "execution_count": 26,
     "metadata": {},
     "output_type": "execute_result"
    }
   ],
   "source": [
    "df.head()"
   ]
  },
  {
   "cell_type": "code",
   "execution_count": 27,
   "id": "2bcc1d03",
   "metadata": {
    "scrolled": false
   },
   "outputs": [],
   "source": [
    "# sea = sns.FacetGrid(df_mean, row='game', col='scheduler', margin_titles=True)\n",
    "# sea.map(sns.barplot, 'cpu_config', 'IPC',\n",
    "#        order = configs)\n",
    "# sea.add_legend()\n",
    "# plt.show()\n",
    "\n",
    "# sea = sns.FacetGrid(df_mean, row='game', col='scheduler', margin_titles=True)\n",
    "# sea.map(sns.barplot, 'cpu_config', 'EXEC',\n",
    "#        order = configs)\n",
    "# sea.add_legend()\n",
    "# plt.show()\n",
    "\n",
    "# sea = sns.FacetGrid(df_mean, row='game', col='scheduler', margin_titles=True)\n",
    "# sea.map(sns.barplot, 'cpu_config', 'FREQ',\n",
    "#        order = configs)\n",
    "# sea.add_legend()\n",
    "# plt.show()\n",
    "\n",
    "# sea = sns.FacetGrid(df_mean, row='game', col='scheduler', margin_titles=True)\n",
    "# sea.map(sns.barplot, 'cpu_config', 'AFREQ',\n",
    "#        order = configs)\n",
    "# sea.add_legend()\n",
    "# plt.show()\n",
    "\n",
    "# sea = sns.FacetGrid(df_mean, row='game', col='scheduler', margin_titles=True)\n",
    "# sea.map(sns.barplot, 'cpu_config', 'CFREQ',\n",
    "#        order = configs)\n",
    "# sea.add_legend()\n",
    "# plt.show()"
   ]
  },
  {
   "cell_type": "code",
   "execution_count": 28,
   "id": "e0954571",
   "metadata": {
    "scrolled": false
   },
   "outputs": [],
   "source": [
    "# sea = sns.FacetGrid(df_sum, row='game', col='scheduler', margin_titles=True)\n",
    "# sea.map(sns.barplot, 'cpu_config', 'L2MISS',\n",
    "#        order = configs)\n",
    "# sea.add_legend()\n",
    "# plt.show()\n",
    "\n",
    "# sea = sns.FacetGrid(df_sum, row='game', col='scheduler', margin_titles=True)\n",
    "# sea.map(sns.barplot, 'cpu_config', 'L3MISS',\n",
    "#        order = configs)\n",
    "# sea.add_legend()\n",
    "# plt.show()\n",
    "\n",
    "# sea = sns.FacetGrid(df_sum, row='game', col='scheduler', margin_titles=True)\n",
    "# sea.map(sns.barplot, 'cpu_config', 'L2HIT',\n",
    "#        order = configs)\n",
    "# sea.add_legend()\n",
    "# plt.show()\n",
    "\n",
    "# sea = sns.FacetGrid(df_sum, row='game', col='scheduler', margin_titles=True)\n",
    "# sea.map(sns.barplot, 'cpu_config', 'L3HIT',\n",
    "#        order = configs)\n",
    "# sea.add_legend()\n",
    "# plt.show()\n",
    "\n",
    "# sea = sns.FacetGrid(df_sum, row='game', col='scheduler', margin_titles=True)\n",
    "# sea.map(sns.barplot, 'cpu_config', 'L2MPI',\n",
    "#        order = configs)\n",
    "# sea.add_legend()\n",
    "# plt.show()\n",
    "\n",
    "# sea = sns.FacetGrid(df_sum, row='game', col='scheduler', margin_titles=True)\n",
    "# sea.map(sns.barplot, 'cpu_config', 'L3MPI',\n",
    "#        order = configs)\n",
    "# sea.add_legend()\n",
    "# plt.show()"
   ]
  },
  {
   "cell_type": "code",
   "execution_count": null,
   "id": "73146df6",
   "metadata": {},
   "outputs": [],
   "source": []
  },
  {
   "cell_type": "code",
   "execution_count": null,
   "id": "f1638b6a",
   "metadata": {},
   "outputs": [],
   "source": []
  },
  {
   "cell_type": "code",
   "execution_count": null,
   "id": "529e754a",
   "metadata": {},
   "outputs": [],
   "source": []
  },
  {
   "cell_type": "code",
   "execution_count": 29,
   "id": "cce18e35",
   "metadata": {
    "scrolled": false
   },
   "outputs": [],
   "source": [
    "# config = configs[3]\n",
    "# game = games[1]\n",
    "# sched = scheds[1]\n",
    "\n",
    "# path_prefix = f\"results/results-{sched}/{game}/{config}\"\n",
    "# outputs = os.listdir(path_prefix)\n",
    "\n",
    "\n",
    "# scaphandres = list(filter(lambda file: file.startswith('scaph'), outputs))\n",
    "# scaphandres = list(filter(lambda file: file.endswith('parsed'), scaphandres))\n",
    "# mangologs = list(filter(lambda file: file.startswith(game), outputs))\n",
    "# pcms = list(filter(lambda file: file.startswith('pcm'), outputs))\n",
    "\n",
    "# def suffix(x):\n",
    "#     return x.split('/')[-1]\n",
    "\n",
    "\n",
    "# host = []\n",
    "# socket = []\n",
    "# processes = []\n",
    "\n",
    "# idx = 0\n",
    "\n",
    "# scaph_2 = f\"{path_prefix}/{scaphandres[idx]}\"\n",
    "# mango_2 = f\"{path_prefix}/{mangologs[idx]}\"\n",
    "# pcm = f\"{path_prefix}/{pcms[idx]}\"\n",
    "\n",
    "# with open(scaph_2) as file:\n",
    "#     content = file.readlines()\n",
    "#     for index, line in enumerate(content[:-1]):\n",
    "#         if line.strip() != '':\n",
    "#             line_ = json.loads(line)\n",
    "#             host.append([line_['host']['timestamp'],line_['host']['consumption']])\n",
    "#             socket.append([line_['sockets'][0]['domains'][0]['timestamp'],\n",
    "#              line_['sockets'][0]['consumption'], \n",
    "#              line_['sockets'][0]['domains'][1]['consumption'], \n",
    "#              line_['sockets'][0]['domains'][0]['consumption']])\n",
    "            \n",
    "#             processes += list(map(\n",
    "#                 lambda x: [x['timestamp'],suffix(x['exe']),x['pid'],x['consumption']], \n",
    "#                 line_['consumers']))\n",
    "\n",
    "# host = pd.DataFrame(host, columns=['timestamp', 'energy'])\n",
    "# socket = pd.DataFrame(socket, columns=['timestamp', 'socket', 'core', 'uncore'])\n",
    "# processes = pd.DataFrame(processes, columns=['timestamp', 'process', 'pid', 'energy'])\n",
    "\n",
    "# host['timestamp'] -= host.iloc[0].timestamp\n",
    "# socket['timestamp'] -= socket.iloc[0].timestamp\n",
    "# processes['timestamp'] -= processes.iloc[0].timestamp\n",
    "\n",
    "# host['energy'] *= 1e-6\n",
    "# socket['core'] *= 1e-6\n",
    "# socket['uncore'] *= 1e-6\n",
    "# socket['socket'] *= 1e-6\n",
    "# processes['energy'] *= 1e-6\n",
    "\n",
    "# duration = host.timestamp.iloc[-1] - host.timestamp.iloc[0]\n",
    "\n",
    "# host['time_delta'] = host.timestamp.diff()\n",
    "# host['edp'] = host.time_delta * host.energy\n",
    "\n",
    "# processes['time_delta'] = processes.timestamp.diff()\n",
    "# processes['edp'] = processes.time_delta * processes.energy\n",
    "\n",
    "# mango_df = pd.read_csv(mango_2, skiprows=2)\n",
    "# fps_1 = mango_df.fps.quantile(.01)\n",
    "# fps_5 = mango_df.fps.quantile(.05)\n",
    "# fps_mean = mango_df.fps.mean()\n",
    "# fps_median = mango_df.fps.median()\n",
    "# edp = host.edp.sum()\n",
    "# energy = host.energy.sum()\n",
    "# game_energy = processes.energy.sum()\n",
    "# xonotic_consumption = processes[processes.process.str.startswith(game)]\n",
    "\n",
    "\n",
    "# print(f\"FPS 1% = {fps_1}\")\n",
    "# print(f\"FPS 5% = {fps_5}\")\n",
    "# print(f\"FPS 50% = {fps_median}\")\n",
    "# print(f\"FPS mean = {fps_mean}\")\n",
    "# print(f\"Duration = {duration}\")\n",
    "# print(f\"EDP = {edp}\")\n",
    "# print(f\"Energy = {energy}\")\n",
    "# print(f\"Game Energy = {game_energy}\")\n",
    "# print(f\"Power = {energy/duration}\")\n",
    "\n",
    "\n",
    "# host.plot(x='timestamp', y='energy', title='pcm-energy')\n",
    "# plt.show()\n",
    "\n",
    "# host.plot(x='timestamp', y='edp', title='pcm-edp')\n",
    "# plt.show()\n",
    "\n",
    "# mango_df.fps.hist(bins=100)\n",
    "# plt.show()\n",
    "\n",
    "# socket.plot(x='timestamp', y=['socket', 'core', 'uncore'], title='socket-energy')\n",
    "# plt.show()\n",
    "\n",
    "# xonotic_consumption.plot(x='timestamp', y='energy', title='App energy consumption')\n",
    "# plt.show()\n",
    "\n",
    "# processes.plot(x='timestamp', y='edp', title='app-edp')\n",
    "# plt.show()\n",
    "\n",
    "\n",
    "# # pcm_data = pd.read_csv(pcm, skiprows=1)\n",
    "\n",
    "# # core = 3\n",
    "# # metrics = [\n",
    "# #     'EXEC',\n",
    "# #     'IPC',\n",
    "# #     'FREQ',\n",
    "# #     'L3MISS',\n",
    "# #     'L3HIT',\n",
    "# #     'L2MISS',\n",
    "# #     'L2HIT'\n",
    "# # ]\n",
    "\n",
    "# # cols = [f'{metric}.{core}' for metric in metrics]\n",
    "\n",
    "# # pcm_data.plot(y=cols[1])\n",
    "# # plt.show()\n",
    "\n"
   ]
  },
  {
   "cell_type": "code",
   "execution_count": null,
   "id": "bf35025b",
   "metadata": {},
   "outputs": [],
   "source": []
  }
 ],
 "metadata": {
  "kernelspec": {
   "display_name": "Python 3 (ipykernel)",
   "language": "python",
   "name": "python3"
  },
  "language_info": {
   "codemirror_mode": {
    "name": "ipython",
    "version": 3
   },
   "file_extension": ".py",
   "mimetype": "text/x-python",
   "name": "python",
   "nbconvert_exporter": "python",
   "pygments_lexer": "ipython3",
   "version": "3.11.6"
  }
 },
 "nbformat": 4,
 "nbformat_minor": 5
}
